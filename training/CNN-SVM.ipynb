{
  "nbformat": 4,
  "nbformat_minor": 0,
  "metadata": {
    "colab": {
      "name": "Untitled15.ipynb",
      "provenance": []
    },
    "kernelspec": {
      "name": "python3",
      "display_name": "Python 3"
    }
  },
  "cells": [
    {
      "cell_type": "code",
      "metadata": {
        "id": "xTkii_K8ns_h",
        "colab_type": "code",
        "colab": {}
      },
      "source": [
        "import os\n",
        "from PIL import Image\n",
        "import pandas as pd\n",
        "import torch\n",
        "from sklearn.model_selection import train_test_split\n",
        "from sklearn.metrics import accuracy_score\n",
        "from sklearn import svm\n",
        "from torchvision import models, transforms"
      ],
      "execution_count": 0,
      "outputs": []
    },
    {
      "cell_type": "code",
      "metadata": {
        "id": "qDgVUjfaf5lG",
        "colab_type": "code",
        "colab": {}
      },
      "source": [
        "gn=models.googlenet(pretrained=True).cuda()\n",
        "#importing GoogleNet from models in torch vision  \n",
        "\n",
        "img=transforms.ToTensor()\n",
        "\n",
        "df = pd.DataFrame(columns=list(range(1000)))\n",
        "target=pd.DataFrame(columns=['target'])\n",
        "#getting the labels"
      ],
      "execution_count": 0,
      "outputs": []
    },
    {
      "cell_type": "code",
      "metadata": {
        "id": "3GirUbnx_ViQ",
        "colab_type": "code",
        "colab": {}
      },
      "source": [
        "for i in os.listdir('final_image_data'):\n",
        "  for j in os.listdir('final_image_data/'+i):\n",
        "    for k in os.listdir('final_image_data/'+i+'/'+j):\n",
        "      im=Image.open('final_image_data/'+i+'/'+j+'/'+k)\n",
        "      features=gn.forward(torch.autograd.Variable(img(im)).cuda().unsqueeze(0)).cpu().detach().numpy()\n",
        "      df=df.append(pd.DataFrame(features))\n",
        "      target=target.append(pd.DataFrame([int(j)])) \n",
        "#creating a feture vectors by feeding images to the GoogleNet  "
      ],
      "execution_count": 0,
      "outputs": []
    },
    {
      "cell_type": "code",
      "metadata": {
        "id": "uXTFvjepi8PJ",
        "colab_type": "code",
        "colab": {}
      },
      "source": [
        "x_train,x_test,y_train,y_test=train_test_split(df2,target[0],train_size=0.8)\n",
        "#test-train split"
      ],
      "execution_count": 0,
      "outputs": []
    },
    {
      "cell_type": "code",
      "metadata": {
        "id": "34LCunRX0etg",
        "colab_type": "code",
        "colab": {}
      },
      "source": [
        "model=svm.SVC(kernel='linear',probability=True)\n",
        "#SVM model"
      ],
      "execution_count": 0,
      "outputs": []
    },
    {
      "cell_type": "code",
      "metadata": {
        "id": "Iyo8rX8003da",
        "colab_type": "code",
        "colab": {}
      },
      "source": [
        "model.fit(x_train,y_train)\n",
        "print(\"Model Accuracy=\",model.score(x_test,y_test),model.score(x_train, y_train))"
      ],
      "execution_count": 0,
      "outputs": []
    }
  ]
}