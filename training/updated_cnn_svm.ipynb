{
  "cells": [
    {
      "cell_type": "code",
      "execution_count": 1,
      "metadata": {
        "colab": {},
        "colab_type": "code",
        "id": "uEwcnJkaRyKf"
      },
      "outputs": [],
      "source": [
        "#preprocessing images\n",
        "import tensorflow as tf\n",
        "from tensorflow.keras import layers, models,preprocessing,regularizers,callbacks\n",
        "from matplotlib import pyplot as plt\n",
        "\n"
      ]
    },
    {
      "cell_type": "code",
      "execution_count": 2,
      "metadata": {},
      "outputs": [
        {
          "data": {
            "text/plain": [
              "keras.layers.kernelized.RandomFourierFeatures"
            ]
          },
          "execution_count": 2,
          "metadata": {},
          "output_type": "execute_result"
        }
      ],
      "source": [
        "tf.keras.layers.experimental.RandomFourierFeatures"
      ]
    },
    {
      "cell_type": "code",
      "execution_count": 3,
      "metadata": {},
      "outputs": [
        {
          "name": "stdout",
          "output_type": "stream",
          "text": [
            "Found 120 images belonging to 2 classes.\n",
            "Found 80 images belonging to 2 classes.\n"
          ]
        }
      ],
      "source": [
        "datagen = preprocessing.image.ImageDataGenerator(rescale=1/255)# normalisation\n",
        "train_generator = datagen.flow_from_directory(\n",
        "        '../datasets/spectrogram/train',\n",
        "        batch_size=10,\n",
        "        target_size=(512,512),\n",
        "        class_mode='binary')\n",
        "val_generator = datagen.flow_from_directory(\n",
        "        '../datasets/spectrogram/test',\n",
        "        color_mode='rgb',\n",
        "        target_size=(512,512),\n",
        "        class_mode='binary')\n"
      ]
    },
    {
      "cell_type": "code",
      "execution_count": 4,
      "metadata": {
        "colab": {},
        "colab_type": "code",
        "id": "pLn8a1D2yjMf"
      },
      "outputs": [],
      "source": [
        "# model\n",
        "model = models.Sequential()\n",
        "model.add(layers.Conv2D(32, (5,5), activation='relu', input_shape=(512, 512, 3)))\n",
        "model.add(layers.MaxPooling2D((4, 4), strides=4))\n",
        "model.add(layers.Conv2D(32, (3, 3), activation='relu',kernel_regularizer=regularizers.l2(0.01)))\n",
        "model.add(layers.MaxPooling2D((1, 3), strides=(1,3)))\n",
        "model.add(layers.Flatten())\n",
        "model.add(layers.Dense(128, activation='linear',kernel_regularizer=regularizers.l2(0.01)))\n",
        "model.add(layers.Dropout(0.6))\n",
        "model.add(layers.Dense(256, activation='relu',kernel_regularizer=regularizers.l2(0.0001)))\n",
        "model.add(layers.Dropout(0.8))\n",
        "model.add(layers.experimental.RandomFourierFeatures(output_dim=10))\n",
        "model.add(layers.Dense(1, activation='sigmoid'))\n",
        "model.compile(optimizer=tf.keras.optimizers.SGD(),\n",
        "              loss=tf.keras.losses.BinaryCrossentropy(),\n",
        "              metrics=['accuracy',\n",
        "                       tf.keras.metrics.TrueNegatives(),\n",
        "                       tf.keras.metrics.TruePositives(),\n",
        "                       tf.keras.metrics.FalseNegatives(),\n",
        "                       tf.keras.metrics.FalsePositives()])"
      ]
    },
    {
      "cell_type": "code",
      "execution_count": 5,
      "metadata": {
        "colab": {},
        "colab_type": "code",
        "id": "xxWqf07xjrp3"
      },
      "outputs": [
        {
          "name": "stdout",
          "output_type": "stream",
          "text": [
            "Epoch 1/100\n",
            "12/12 [==============================] - 12s 963ms/step - loss: 3.6570 - accuracy: 0.5333 - true_negatives: 28.0000 - true_positives: 36.0000 - false_negatives: 24.0000 - false_positives: 32.0000 - val_loss: 3.5833 - val_accuracy: 0.5000 - val_true_negatives: 40.0000 - val_true_positives: 0.0000e+00 - val_false_negatives: 40.0000 - val_false_positives: 0.0000e+00\n",
            "Epoch 2/100\n",
            "12/12 [==============================] - 11s 893ms/step - loss: 3.5909 - accuracy: 0.4917 - true_negatives: 6.0000 - true_positives: 53.0000 - false_negatives: 7.0000 - false_positives: 54.0000 - val_loss: 3.5740 - val_accuracy: 0.5000 - val_true_negatives: 0.0000e+00 - val_true_positives: 40.0000 - val_false_negatives: 0.0000e+00 - val_false_positives: 40.0000\n",
            "Epoch 3/100\n",
            "12/12 [==============================] - 10s 877ms/step - loss: 3.5700 - accuracy: 0.5000 - true_negatives: 0.0000e+00 - true_positives: 60.0000 - false_negatives: 0.0000e+00 - false_positives: 60.0000 - val_loss: 3.5589 - val_accuracy: 0.5000 - val_true_negatives: 0.0000e+00 - val_true_positives: 40.0000 - val_false_negatives: 0.0000e+00 - val_false_positives: 40.0000\n",
            "Epoch 4/100\n",
            "12/12 [==============================] - 10s 879ms/step - loss: 3.5545 - accuracy: 0.5000 - true_negatives: 1.0000 - true_positives: 59.0000 - false_negatives: 1.0000 - false_positives: 59.0000 - val_loss: 3.5442 - val_accuracy: 0.5000 - val_true_negatives: 0.0000e+00 - val_true_positives: 40.0000 - val_false_negatives: 0.0000e+00 - val_false_positives: 40.0000\n",
            "Epoch 5/100\n",
            "12/12 [==============================] - 10s 876ms/step - loss: 3.5456 - accuracy: 0.4833 - true_negatives: 3.0000 - true_positives: 55.0000 - false_negatives: 5.0000 - false_positives: 57.0000 - val_loss: 3.5293 - val_accuracy: 0.5000 - val_true_negatives: 0.0000e+00 - val_true_positives: 40.0000 - val_false_negatives: 0.0000e+00 - val_false_positives: 40.0000\n",
            "Epoch 6/100\n",
            "12/12 [==============================] - 10s 872ms/step - loss: 3.5280 - accuracy: 0.4750 - true_negatives: 1.0000 - true_positives: 56.0000 - false_negatives: 4.0000 - false_positives: 59.0000 - val_loss: 3.5154 - val_accuracy: 0.5000 - val_true_negatives: 0.0000e+00 - val_true_positives: 40.0000 - val_false_negatives: 0.0000e+00 - val_false_positives: 40.0000\n",
            "Epoch 7/100\n",
            "12/12 [==============================] - 11s 886ms/step - loss: 3.5129 - accuracy: 0.5500 - true_negatives: 12.0000 - true_positives: 54.0000 - false_negatives: 6.0000 - false_positives: 48.0000 - val_loss: 3.5043 - val_accuracy: 0.5000 - val_true_negatives: 0.0000e+00 - val_true_positives: 40.0000 - val_false_negatives: 0.0000e+00 - val_false_positives: 40.0000\n",
            "Epoch 8/100\n",
            "12/12 [==============================] - 11s 907ms/step - loss: 3.5024 - accuracy: 0.5250 - true_negatives: 14.0000 - true_positives: 49.0000 - false_negatives: 11.0000 - false_positives: 46.0000 - val_loss: 3.4894 - val_accuracy: 0.5000 - val_true_negatives: 0.0000e+00 - val_true_positives: 40.0000 - val_false_negatives: 0.0000e+00 - val_false_positives: 40.0000\n",
            "Epoch 9/100\n",
            "12/12 [==============================] - 11s 915ms/step - loss: 3.4906 - accuracy: 0.4917 - true_negatives: 6.0000 - true_positives: 53.0000 - false_negatives: 7.0000 - false_positives: 54.0000 - val_loss: 3.4762 - val_accuracy: 0.5000 - val_true_negatives: 0.0000e+00 - val_true_positives: 40.0000 - val_false_negatives: 0.0000e+00 - val_false_positives: 40.0000\n",
            "Epoch 10/100\n",
            "12/12 [==============================] - 11s 885ms/step - loss: 3.4740 - accuracy: 0.5167 - true_negatives: 5.0000 - true_positives: 57.0000 - false_negatives: 3.0000 - false_positives: 55.0000 - val_loss: 3.4621 - val_accuracy: 0.5000 - val_true_negatives: 0.0000e+00 - val_true_positives: 40.0000 - val_false_negatives: 0.0000e+00 - val_false_positives: 40.0000\n",
            "Epoch 11/100\n",
            "12/12 [==============================] - 10s 845ms/step - loss: 3.4582 - accuracy: 0.5083 - true_negatives: 10.0000 - true_positives: 51.0000 - false_negatives: 9.0000 - false_positives: 50.0000 - val_loss: 3.4476 - val_accuracy: 0.5000 - val_true_negatives: 0.0000e+00 - val_true_positives: 40.0000 - val_false_negatives: 0.0000e+00 - val_false_positives: 40.0000\n",
            "Epoch 12/100\n",
            "12/12 [==============================] - 11s 903ms/step - loss: 3.4454 - accuracy: 0.5500 - true_negatives: 19.0000 - true_positives: 47.0000 - false_negatives: 13.0000 - false_positives: 41.0000 - val_loss: 3.4334 - val_accuracy: 0.7250 - val_true_negatives: 18.0000 - val_true_positives: 40.0000 - val_false_negatives: 0.0000e+00 - val_false_positives: 22.0000\n",
            "Epoch 13/100\n",
            "12/12 [==============================] - 11s 916ms/step - loss: 3.4319 - accuracy: 0.5417 - true_negatives: 20.0000 - true_positives: 45.0000 - false_negatives: 15.0000 - false_positives: 40.0000 - val_loss: 3.4199 - val_accuracy: 0.5000 - val_true_negatives: 0.0000e+00 - val_true_positives: 40.0000 - val_false_negatives: 0.0000e+00 - val_false_positives: 40.0000\n",
            "Epoch 14/100\n",
            "12/12 [==============================] - 11s 892ms/step - loss: 3.4357 - accuracy: 0.4917 - true_negatives: 16.0000 - true_positives: 43.0000 - false_negatives: 17.0000 - false_positives: 44.0000 - val_loss: 3.4096 - val_accuracy: 0.8250 - val_true_negatives: 38.0000 - val_true_positives: 28.0000 - val_false_negatives: 12.0000 - val_false_positives: 2.0000\n",
            "Epoch 15/100\n",
            "12/12 [==============================] - 11s 926ms/step - loss: 3.4073 - accuracy: 0.5333 - true_negatives: 35.0000 - true_positives: 29.0000 - false_negatives: 31.0000 - false_positives: 25.0000 - val_loss: 3.3949 - val_accuracy: 0.8250 - val_true_negatives: 35.0000 - val_true_positives: 31.0000 - val_false_negatives: 9.0000 - val_false_positives: 5.0000\n",
            "Epoch 16/100\n",
            "12/12 [==============================] - 11s 884ms/step - loss: 3.4043 - accuracy: 0.5667 - true_negatives: 28.0000 - true_positives: 40.0000 - false_negatives: 20.0000 - false_positives: 32.0000 - val_loss: 3.3824 - val_accuracy: 0.6250 - val_true_negatives: 38.0000 - val_true_positives: 12.0000 - val_false_negatives: 28.0000 - val_false_positives: 2.0000\n",
            "Epoch 17/100\n",
            "12/12 [==============================] - 11s 895ms/step - loss: 3.3807 - accuracy: 0.5500 - true_negatives: 34.0000 - true_positives: 32.0000 - false_negatives: 28.0000 - false_positives: 26.0000 - val_loss: 3.3655 - val_accuracy: 0.7750 - val_true_negatives: 22.0000 - val_true_positives: 40.0000 - val_false_negatives: 0.0000e+00 - val_false_positives: 18.0000\n",
            "Epoch 18/100\n",
            "12/12 [==============================] - 11s 916ms/step - loss: 3.3622 - accuracy: 0.5000 - true_negatives: 23.0000 - true_positives: 37.0000 - false_negatives: 23.0000 - false_positives: 37.0000 - val_loss: 3.3552 - val_accuracy: 0.6000 - val_true_negatives: 37.0000 - val_true_positives: 11.0000 - val_false_negatives: 29.0000 - val_false_positives: 3.0000\n",
            "Epoch 19/100\n",
            "12/12 [==============================] - 11s 892ms/step - loss: 3.3424 - accuracy: 0.5917 - true_negatives: 35.0000 - true_positives: 36.0000 - false_negatives: 24.0000 - false_positives: 25.0000 - val_loss: 3.3568 - val_accuracy: 0.4125 - val_true_negatives: 0.0000e+00 - val_true_positives: 33.0000 - val_false_negatives: 7.0000 - val_false_positives: 40.0000\n",
            "Epoch 20/100\n",
            "12/12 [==============================] - 10s 869ms/step - loss: 3.3597 - accuracy: 0.4583 - true_negatives: 40.0000 - true_positives: 15.0000 - false_negatives: 45.0000 - false_positives: 20.0000 - val_loss: 3.3322 - val_accuracy: 0.5875 - val_true_negatives: 40.0000 - val_true_positives: 7.0000 - val_false_negatives: 33.0000 - val_false_positives: 0.0000e+00\n",
            "Epoch 21/100\n",
            "12/12 [==============================] - 11s 883ms/step - loss: 3.3281 - accuracy: 0.5417 - true_negatives: 51.0000 - true_positives: 14.0000 - false_negatives: 46.0000 - false_positives: 9.0000 - val_loss: 3.3196 - val_accuracy: 0.5750 - val_true_negatives: 40.0000 - val_true_positives: 6.0000 - val_false_negatives: 34.0000 - val_false_positives: 0.0000e+00\n",
            "Epoch 22/100\n",
            "12/12 [==============================] - 11s 880ms/step - loss: 3.3188 - accuracy: 0.4667 - true_negatives: 47.0000 - true_positives: 9.0000 - false_negatives: 51.0000 - false_positives: 13.0000 - val_loss: 3.3068 - val_accuracy: 0.5750 - val_true_negatives: 40.0000 - val_true_positives: 6.0000 - val_false_negatives: 34.0000 - val_false_positives: 0.0000e+00\n",
            "Epoch 23/100\n",
            "12/12 [==============================] - 10s 876ms/step - loss: 3.3056 - accuracy: 0.5083 - true_negatives: 43.0000 - true_positives: 18.0000 - false_negatives: 42.0000 - false_positives: 17.0000 - val_loss: 3.2935 - val_accuracy: 0.5875 - val_true_negatives: 40.0000 - val_true_positives: 7.0000 - val_false_negatives: 33.0000 - val_false_positives: 0.0000e+00\n",
            "Epoch 24/100\n",
            "12/12 [==============================] - 10s 878ms/step - loss: 3.2929 - accuracy: 0.5333 - true_negatives: 40.0000 - true_positives: 24.0000 - false_negatives: 36.0000 - false_positives: 20.0000 - val_loss: 3.2774 - val_accuracy: 0.6500 - val_true_negatives: 37.0000 - val_true_positives: 15.0000 - val_false_negatives: 25.0000 - val_false_positives: 3.0000\n",
            "Epoch 25/100\n",
            "12/12 [==============================] - 10s 877ms/step - loss: 3.2810 - accuracy: 0.4583 - true_negatives: 33.0000 - true_positives: 22.0000 - false_negatives: 38.0000 - false_positives: 27.0000 - val_loss: 3.2655 - val_accuracy: 0.5875 - val_true_negatives: 40.0000 - val_true_positives: 7.0000 - val_false_negatives: 33.0000 - val_false_positives: 0.0000e+00\n",
            "Epoch 26/100\n",
            "12/12 [==============================] - 11s 888ms/step - loss: 3.2784 - accuracy: 0.4750 - true_negatives: 35.0000 - true_positives: 22.0000 - false_negatives: 38.0000 - false_positives: 25.0000 - val_loss: 3.2453 - val_accuracy: 0.7375 - val_true_negatives: 19.0000 - val_true_positives: 40.0000 - val_false_negatives: 0.0000e+00 - val_false_positives: 21.0000\n",
            "Epoch 27/100\n",
            "12/12 [==============================] - 10s 858ms/step - loss: 3.2620 - accuracy: 0.5833 - true_negatives: 28.0000 - true_positives: 42.0000 - false_negatives: 18.0000 - false_positives: 32.0000 - val_loss: 3.2448 - val_accuracy: 0.5750 - val_true_negatives: 39.0000 - val_true_positives: 7.0000 - val_false_negatives: 33.0000 - val_false_positives: 1.0000\n",
            "Epoch 28/100\n",
            "12/12 [==============================] - 11s 884ms/step - loss: 3.2422 - accuracy: 0.5417 - true_negatives: 33.0000 - true_positives: 32.0000 - false_negatives: 28.0000 - false_positives: 27.0000 - val_loss: 3.2281 - val_accuracy: 0.7750 - val_true_negatives: 30.0000 - val_true_positives: 32.0000 - val_false_negatives: 8.0000 - val_false_positives: 10.0000\n",
            "Epoch 29/100\n",
            "12/12 [==============================] - 10s 875ms/step - loss: 3.2352 - accuracy: 0.4833 - true_negatives: 31.0000 - true_positives: 27.0000 - false_negatives: 33.0000 - false_positives: 29.0000 - val_loss: 3.2126 - val_accuracy: 0.7625 - val_true_negatives: 26.0000 - val_true_positives: 35.0000 - val_false_negatives: 5.0000 - val_false_positives: 14.0000\n",
            "Epoch 30/100\n",
            "12/12 [==============================] - 11s 901ms/step - loss: 3.2185 - accuracy: 0.5083 - true_negatives: 37.0000 - true_positives: 24.0000 - false_negatives: 36.0000 - false_positives: 23.0000 - val_loss: 3.2011 - val_accuracy: 0.7875 - val_true_negatives: 29.0000 - val_true_positives: 34.0000 - val_false_negatives: 6.0000 - val_false_positives: 11.0000\n",
            "Epoch 31/100\n",
            "12/12 [==============================] - 11s 897ms/step - loss: 3.2200 - accuracy: 0.5417 - true_negatives: 32.0000 - true_positives: 33.0000 - false_negatives: 27.0000 - false_positives: 28.0000 - val_loss: 3.1860 - val_accuracy: 0.7625 - val_true_negatives: 26.0000 - val_true_positives: 35.0000 - val_false_negatives: 5.0000 - val_false_positives: 14.0000\n",
            "Epoch 32/100\n",
            "12/12 [==============================] - 11s 888ms/step - loss: 3.1899 - accuracy: 0.5583 - true_negatives: 39.0000 - true_positives: 28.0000 - false_negatives: 32.0000 - false_positives: 21.0000 - val_loss: 3.1689 - val_accuracy: 0.7625 - val_true_negatives: 26.0000 - val_true_positives: 35.0000 - val_false_negatives: 5.0000 - val_false_positives: 14.0000\n",
            "Epoch 33/100\n",
            "12/12 [==============================] - 11s 885ms/step - loss: 3.1875 - accuracy: 0.5083 - true_negatives: 40.0000 - true_positives: 21.0000 - false_negatives: 39.0000 - false_positives: 20.0000 - val_loss: 3.1616 - val_accuracy: 0.7875 - val_true_negatives: 30.0000 - val_true_positives: 33.0000 - val_false_negatives: 7.0000 - val_false_positives: 10.0000\n",
            "Epoch 34/100\n",
            "12/12 [==============================] - 11s 889ms/step - loss: 3.1729 - accuracy: 0.5417 - true_negatives: 34.0000 - true_positives: 31.0000 - false_negatives: 29.0000 - false_positives: 26.0000 - val_loss: 3.1356 - val_accuracy: 0.8125 - val_true_negatives: 25.0000 - val_true_positives: 40.0000 - val_false_negatives: 0.0000e+00 - val_false_positives: 15.0000\n",
            "Epoch 35/100\n",
            "12/12 [==============================] - 10s 880ms/step - loss: 3.1573 - accuracy: 0.6000 - true_negatives: 39.0000 - true_positives: 33.0000 - false_negatives: 27.0000 - false_positives: 21.0000 - val_loss: 3.1363 - val_accuracy: 0.7625 - val_true_negatives: 36.0000 - val_true_positives: 25.0000 - val_false_negatives: 15.0000 - val_false_positives: 4.0000\n",
            "Epoch 36/100\n",
            "12/12 [==============================] - 11s 913ms/step - loss: 3.1322 - accuracy: 0.5667 - true_negatives: 35.0000 - true_positives: 33.0000 - false_negatives: 27.0000 - false_positives: 25.0000 - val_loss: 3.1496 - val_accuracy: 0.4250 - val_true_negatives: 0.0000e+00 - val_true_positives: 34.0000 - val_false_negatives: 6.0000 - val_false_positives: 40.0000\n",
            "Epoch 37/100\n",
            "12/12 [==============================] - 11s 937ms/step - loss: 3.1259 - accuracy: 0.5167 - true_negatives: 36.0000 - true_positives: 26.0000 - false_negatives: 34.0000 - false_positives: 24.0000 - val_loss: 3.1145 - val_accuracy: 0.6375 - val_true_negatives: 38.0000 - val_true_positives: 13.0000 - val_false_negatives: 27.0000 - val_false_positives: 2.0000\n",
            "Epoch 38/100\n",
            "12/12 [==============================] - 11s 924ms/step - loss: 3.1144 - accuracy: 0.5583 - true_negatives: 43.0000 - true_positives: 24.0000 - false_negatives: 36.0000 - false_positives: 17.0000 - val_loss: 3.0801 - val_accuracy: 0.8125 - val_true_negatives: 25.0000 - val_true_positives: 40.0000 - val_false_negatives: 0.0000e+00 - val_false_positives: 15.0000\n",
            "Epoch 39/100\n",
            "12/12 [==============================] - 10s 875ms/step - loss: 3.1037 - accuracy: 0.6333 - true_negatives: 33.0000 - true_positives: 43.0000 - false_negatives: 17.0000 - false_positives: 27.0000 - val_loss: 3.1992 - val_accuracy: 0.5000 - val_true_negatives: 0.0000e+00 - val_true_positives: 40.0000 - val_false_negatives: 0.0000e+00 - val_false_positives: 40.0000\n",
            "Epoch 40/100\n",
            "12/12 [==============================] - 11s 893ms/step - loss: 3.1366 - accuracy: 0.4750 - true_negatives: 40.0000 - true_positives: 17.0000 - false_negatives: 43.0000 - false_positives: 20.0000 - val_loss: 3.0865 - val_accuracy: 0.5125 - val_true_negatives: 38.0000 - val_true_positives: 3.0000 - val_false_negatives: 37.0000 - val_false_positives: 2.0000\n",
            "Epoch 41/100\n",
            "12/12 [==============================] - 10s 844ms/step - loss: 3.1056 - accuracy: 0.4917 - true_negatives: 40.0000 - true_positives: 19.0000 - false_negatives: 41.0000 - false_positives: 20.0000 - val_loss: 3.0652 - val_accuracy: 0.6875 - val_true_negatives: 37.0000 - val_true_positives: 18.0000 - val_false_negatives: 22.0000 - val_false_positives: 3.0000\n",
            "Epoch 42/100\n",
            "12/12 [==============================] - 10s 840ms/step - loss: 3.0717 - accuracy: 0.5583 - true_negatives: 49.0000 - true_positives: 18.0000 - false_negatives: 42.0000 - false_positives: 11.0000 - val_loss: 3.0339 - val_accuracy: 0.6875 - val_true_negatives: 25.0000 - val_true_positives: 30.0000 - val_false_negatives: 10.0000 - val_false_positives: 15.0000\n",
            "Epoch 43/100\n",
            "12/12 [==============================] - 10s 837ms/step - loss: 3.0508 - accuracy: 0.5500 - true_negatives: 41.0000 - true_positives: 25.0000 - false_negatives: 35.0000 - false_positives: 19.0000 - val_loss: 3.0230 - val_accuracy: 0.7125 - val_true_negatives: 27.0000 - val_true_positives: 30.0000 - val_false_negatives: 10.0000 - val_false_positives: 13.0000\n",
            "Epoch 44/100\n",
            "12/12 [==============================] - 10s 830ms/step - loss: 3.0546 - accuracy: 0.5500 - true_negatives: 46.0000 - true_positives: 20.0000 - false_negatives: 40.0000 - false_positives: 14.0000 - val_loss: 3.0247 - val_accuracy: 0.7750 - val_true_negatives: 34.0000 - val_true_positives: 28.0000 - val_false_negatives: 12.0000 - val_false_positives: 6.0000\n",
            "Epoch 45/100\n",
            "12/12 [==============================] - 10s 836ms/step - loss: 3.0566 - accuracy: 0.5333 - true_negatives: 37.0000 - true_positives: 27.0000 - false_negatives: 33.0000 - false_positives: 23.0000 - val_loss: 2.9929 - val_accuracy: 0.7625 - val_true_negatives: 25.0000 - val_true_positives: 36.0000 - val_false_negatives: 4.0000 - val_false_positives: 15.0000\n",
            "Epoch 46/100\n",
            "12/12 [==============================] - 10s 838ms/step - loss: 3.0244 - accuracy: 0.5250 - true_negatives: 36.0000 - true_positives: 27.0000 - false_negatives: 33.0000 - false_positives: 24.0000 - val_loss: 2.9802 - val_accuracy: 0.7500 - val_true_negatives: 23.0000 - val_true_positives: 37.0000 - val_false_negatives: 3.0000 - val_false_positives: 17.0000\n",
            "Epoch 47/100\n",
            "12/12 [==============================] - 10s 836ms/step - loss: 3.0199 - accuracy: 0.5000 - true_negatives: 39.0000 - true_positives: 21.0000 - false_negatives: 39.0000 - false_positives: 21.0000 - val_loss: 2.9887 - val_accuracy: 0.8250 - val_true_negatives: 37.0000 - val_true_positives: 29.0000 - val_false_negatives: 11.0000 - val_false_positives: 3.0000\n",
            "Epoch 48/100\n",
            "12/12 [==============================] - 10s 841ms/step - loss: 2.9913 - accuracy: 0.5417 - true_negatives: 32.0000 - true_positives: 33.0000 - false_negatives: 27.0000 - false_positives: 28.0000 - val_loss: 2.9585 - val_accuracy: 0.7625 - val_true_negatives: 32.0000 - val_true_positives: 29.0000 - val_false_negatives: 11.0000 - val_false_positives: 8.0000\n",
            "Epoch 49/100\n",
            "12/12 [==============================] - 10s 841ms/step - loss: 2.9953 - accuracy: 0.5833 - true_negatives: 37.0000 - true_positives: 33.0000 - false_negatives: 27.0000 - false_positives: 23.0000 - val_loss: 2.9507 - val_accuracy: 0.7875 - val_true_negatives: 29.0000 - val_true_positives: 34.0000 - val_false_negatives: 6.0000 - val_false_positives: 11.0000\n",
            "Epoch 50/100\n",
            "12/12 [==============================] - 10s 840ms/step - loss: 2.9984 - accuracy: 0.5500 - true_negatives: 40.0000 - true_positives: 26.0000 - false_negatives: 34.0000 - false_positives: 20.0000 - val_loss: 2.9403 - val_accuracy: 0.8000 - val_true_negatives: 26.0000 - val_true_positives: 38.0000 - val_false_negatives: 2.0000 - val_false_positives: 14.0000\n",
            "Epoch 51/100\n",
            "12/12 [==============================] - 10s 841ms/step - loss: 2.9702 - accuracy: 0.5417 - true_negatives: 31.0000 - true_positives: 34.0000 - false_negatives: 26.0000 - false_positives: 29.0000 - val_loss: 2.9366 - val_accuracy: 0.8000 - val_true_negatives: 33.0000 - val_true_positives: 31.0000 - val_false_negatives: 9.0000 - val_false_positives: 7.0000\n",
            "Epoch 52/100\n",
            "12/12 [==============================] - 10s 840ms/step - loss: 2.9502 - accuracy: 0.5583 - true_negatives: 40.0000 - true_positives: 27.0000 - false_negatives: 33.0000 - false_positives: 20.0000 - val_loss: 2.8895 - val_accuracy: 0.8000 - val_true_negatives: 25.0000 - val_true_positives: 39.0000 - val_false_negatives: 1.0000 - val_false_positives: 15.0000\n",
            "Epoch 53/100\n",
            "12/12 [==============================] - 10s 833ms/step - loss: 2.9564 - accuracy: 0.5500 - true_negatives: 37.0000 - true_positives: 29.0000 - false_negatives: 31.0000 - false_positives: 23.0000 - val_loss: 2.9165 - val_accuracy: 0.8375 - val_true_negatives: 37.0000 - val_true_positives: 30.0000 - val_false_negatives: 10.0000 - val_false_positives: 3.0000\n",
            "Epoch 54/100\n",
            "12/12 [==============================] - 10s 836ms/step - loss: 2.9483 - accuracy: 0.5833 - true_negatives: 45.0000 - true_positives: 25.0000 - false_negatives: 35.0000 - false_positives: 15.0000 - val_loss: 2.8964 - val_accuracy: 0.8000 - val_true_negatives: 31.0000 - val_true_positives: 33.0000 - val_false_negatives: 7.0000 - val_false_positives: 9.0000\n",
            "Epoch 55/100\n",
            "12/12 [==============================] - 10s 836ms/step - loss: 2.9294 - accuracy: 0.5333 - true_negatives: 36.0000 - true_positives: 28.0000 - false_negatives: 32.0000 - false_positives: 24.0000 - val_loss: 2.8646 - val_accuracy: 0.8000 - val_true_negatives: 30.0000 - val_true_positives: 34.0000 - val_false_negatives: 6.0000 - val_false_positives: 10.0000\n",
            "Epoch 56/100\n",
            "12/12 [==============================] - 10s 840ms/step - loss: 2.8950 - accuracy: 0.6000 - true_negatives: 40.0000 - true_positives: 32.0000 - false_negatives: 28.0000 - false_positives: 20.0000 - val_loss: 2.8570 - val_accuracy: 0.8125 - val_true_negatives: 31.0000 - val_true_positives: 34.0000 - val_false_negatives: 6.0000 - val_false_positives: 9.0000\n",
            "Epoch 57/100\n",
            "12/12 [==============================] - 10s 839ms/step - loss: 2.8957 - accuracy: 0.6000 - true_negatives: 38.0000 - true_positives: 34.0000 - false_negatives: 26.0000 - false_positives: 22.0000 - val_loss: 2.8250 - val_accuracy: 0.8000 - val_true_negatives: 30.0000 - val_true_positives: 34.0000 - val_false_negatives: 6.0000 - val_false_positives: 10.0000\n",
            "Epoch 58/100\n",
            "12/12 [==============================] - 10s 836ms/step - loss: 2.8765 - accuracy: 0.6000 - true_negatives: 33.0000 - true_positives: 39.0000 - false_negatives: 21.0000 - false_positives: 27.0000 - val_loss: 2.8254 - val_accuracy: 0.8125 - val_true_negatives: 31.0000 - val_true_positives: 34.0000 - val_false_negatives: 6.0000 - val_false_positives: 9.0000\n",
            "Epoch 59/100\n",
            "12/12 [==============================] - 10s 841ms/step - loss: 2.8521 - accuracy: 0.6167 - true_negatives: 39.0000 - true_positives: 35.0000 - false_negatives: 25.0000 - false_positives: 21.0000 - val_loss: 2.7741 - val_accuracy: 0.8125 - val_true_negatives: 25.0000 - val_true_positives: 40.0000 - val_false_negatives: 0.0000e+00 - val_false_positives: 15.0000\n",
            "Epoch 60/100\n",
            "12/12 [==============================] - 10s 841ms/step - loss: 2.8527 - accuracy: 0.5667 - true_negatives: 35.0000 - true_positives: 33.0000 - false_negatives: 27.0000 - false_positives: 25.0000 - val_loss: 2.7746 - val_accuracy: 0.8000 - val_true_negatives: 30.0000 - val_true_positives: 34.0000 - val_false_negatives: 6.0000 - val_false_positives: 10.0000\n",
            "Epoch 61/100\n",
            "12/12 [==============================] - 10s 842ms/step - loss: 2.8632 - accuracy: 0.5417 - true_negatives: 33.0000 - true_positives: 32.0000 - false_negatives: 28.0000 - false_positives: 27.0000 - val_loss: 2.7532 - val_accuracy: 0.7750 - val_true_negatives: 27.0000 - val_true_positives: 35.0000 - val_false_negatives: 5.0000 - val_false_positives: 13.0000\n",
            "Epoch 62/100\n",
            "12/12 [==============================] - 10s 837ms/step - loss: 2.8618 - accuracy: 0.5417 - true_negatives: 40.0000 - true_positives: 25.0000 - false_negatives: 35.0000 - false_positives: 20.0000 - val_loss: 2.8054 - val_accuracy: 0.8500 - val_true_negatives: 36.0000 - val_true_positives: 32.0000 - val_false_negatives: 8.0000 - val_false_positives: 4.0000\n",
            "Epoch 63/100\n",
            "12/12 [==============================] - 10s 840ms/step - loss: 2.8424 - accuracy: 0.5750 - true_negatives: 32.0000 - true_positives: 37.0000 - false_negatives: 23.0000 - false_positives: 28.0000 - val_loss: 2.7416 - val_accuracy: 0.7750 - val_true_negatives: 26.0000 - val_true_positives: 36.0000 - val_false_negatives: 4.0000 - val_false_positives: 14.0000\n",
            "Epoch 64/100\n",
            "12/12 [==============================] - 10s 841ms/step - loss: 2.7943 - accuracy: 0.5417 - true_negatives: 32.0000 - true_positives: 33.0000 - false_negatives: 27.0000 - false_positives: 28.0000 - val_loss: 2.7030 - val_accuracy: 0.7750 - val_true_negatives: 25.0000 - val_true_positives: 37.0000 - val_false_negatives: 3.0000 - val_false_positives: 15.0000\n",
            "Epoch 65/100\n",
            "12/12 [==============================] - 10s 881ms/step - loss: 2.8076 - accuracy: 0.5417 - true_negatives: 37.0000 - true_positives: 28.0000 - false_negatives: 32.0000 - false_positives: 23.0000 - val_loss: 2.6795 - val_accuracy: 0.8125 - val_true_negatives: 25.0000 - val_true_positives: 40.0000 - val_false_negatives: 0.0000e+00 - val_false_positives: 15.0000\n",
            "Epoch 66/100\n",
            "12/12 [==============================] - 11s 920ms/step - loss: 2.8252 - accuracy: 0.5417 - true_negatives: 27.0000 - true_positives: 38.0000 - false_negatives: 22.0000 - false_positives: 33.0000 - val_loss: 2.6674 - val_accuracy: 0.8000 - val_true_negatives: 25.0000 - val_true_positives: 39.0000 - val_false_negatives: 1.0000 - val_false_positives: 15.0000\n",
            "Epoch 67/100\n",
            "12/12 [==============================] - 11s 889ms/step - loss: 2.8050 - accuracy: 0.6083 - true_negatives: 37.0000 - true_positives: 36.0000 - false_negatives: 24.0000 - false_positives: 23.0000 - val_loss: 2.6951 - val_accuracy: 0.8000 - val_true_negatives: 30.0000 - val_true_positives: 34.0000 - val_false_negatives: 6.0000 - val_false_positives: 10.0000\n",
            "Epoch 68/100\n",
            "12/12 [==============================] - 11s 919ms/step - loss: 2.7847 - accuracy: 0.6083 - true_negatives: 36.0000 - true_positives: 37.0000 - false_negatives: 23.0000 - false_positives: 24.0000 - val_loss: 2.6640 - val_accuracy: 0.8125 - val_true_negatives: 25.0000 - val_true_positives: 40.0000 - val_false_negatives: 0.0000e+00 - val_false_positives: 15.0000\n",
            "Epoch 69/100\n",
            "12/12 [==============================] - 11s 883ms/step - loss: 2.8183 - accuracy: 0.5500 - true_negatives: 33.0000 - true_positives: 33.0000 - false_negatives: 27.0000 - false_positives: 27.0000 - val_loss: 2.7180 - val_accuracy: 0.6750 - val_true_negatives: 32.0000 - val_true_positives: 22.0000 - val_false_negatives: 18.0000 - val_false_positives: 8.0000\n",
            "Epoch 70/100\n",
            "12/12 [==============================] - 11s 923ms/step - loss: 2.8410 - accuracy: 0.4917 - true_negatives: 35.0000 - true_positives: 24.0000 - false_negatives: 36.0000 - false_positives: 25.0000 - val_loss: 2.6575 - val_accuracy: 0.8125 - val_true_negatives: 31.0000 - val_true_positives: 34.0000 - val_false_negatives: 6.0000 - val_false_positives: 9.0000\n",
            "Epoch 71/100\n",
            "12/12 [==============================] - 10s 840ms/step - loss: 2.7252 - accuracy: 0.6000 - true_negatives: 46.0000 - true_positives: 26.0000 - false_negatives: 34.0000 - false_positives: 14.0000 - val_loss: 2.6243 - val_accuracy: 0.8125 - val_true_negatives: 25.0000 - val_true_positives: 40.0000 - val_false_negatives: 0.0000e+00 - val_false_positives: 15.0000\n",
            "Epoch 72/100\n",
            "12/12 [==============================] - 10s 836ms/step - loss: 2.7365 - accuracy: 0.6083 - true_negatives: 37.0000 - true_positives: 36.0000 - false_negatives: 24.0000 - false_positives: 23.0000 - val_loss: 2.5976 - val_accuracy: 0.8125 - val_true_negatives: 25.0000 - val_true_positives: 40.0000 - val_false_negatives: 0.0000e+00 - val_false_positives: 15.0000\n",
            "Epoch 73/100\n",
            "12/12 [==============================] - 11s 892ms/step - loss: 2.7195 - accuracy: 0.6417 - true_negatives: 36.0000 - true_positives: 41.0000 - false_negatives: 19.0000 - false_positives: 24.0000 - val_loss: 2.5844 - val_accuracy: 0.8125 - val_true_negatives: 25.0000 - val_true_positives: 40.0000 - val_false_negatives: 0.0000e+00 - val_false_positives: 15.0000\n",
            "Epoch 74/100\n",
            "12/12 [==============================] - 10s 839ms/step - loss: 2.7324 - accuracy: 0.5750 - true_negatives: 37.0000 - true_positives: 32.0000 - false_negatives: 28.0000 - false_positives: 23.0000 - val_loss: 2.5786 - val_accuracy: 0.8125 - val_true_negatives: 25.0000 - val_true_positives: 40.0000 - val_false_negatives: 0.0000e+00 - val_false_positives: 15.0000\n",
            "Epoch 75/100\n",
            "12/12 [==============================] - 10s 836ms/step - loss: 2.6915 - accuracy: 0.5917 - true_negatives: 33.0000 - true_positives: 38.0000 - false_negatives: 22.0000 - false_positives: 27.0000 - val_loss: 2.5703 - val_accuracy: 0.7875 - val_true_negatives: 27.0000 - val_true_positives: 36.0000 - val_false_negatives: 4.0000 - val_false_positives: 13.0000\n",
            "Epoch 76/100\n",
            "12/12 [==============================] - 10s 855ms/step - loss: 2.7020 - accuracy: 0.5917 - true_negatives: 33.0000 - true_positives: 38.0000 - false_negatives: 22.0000 - false_positives: 27.0000 - val_loss: 2.5673 - val_accuracy: 0.7875 - val_true_negatives: 29.0000 - val_true_positives: 34.0000 - val_false_negatives: 6.0000 - val_false_positives: 11.0000\n",
            "Epoch 77/100\n",
            "12/12 [==============================] - 10s 871ms/step - loss: 2.7026 - accuracy: 0.6417 - true_negatives: 34.0000 - true_positives: 43.0000 - false_negatives: 17.0000 - false_positives: 26.0000 - val_loss: 2.5780 - val_accuracy: 0.8000 - val_true_negatives: 30.0000 - val_true_positives: 34.0000 - val_false_negatives: 6.0000 - val_false_positives: 10.0000\n",
            "Epoch 78/100\n",
            "12/12 [==============================] - 11s 895ms/step - loss: 2.6821 - accuracy: 0.5583 - true_negatives: 28.0000 - true_positives: 39.0000 - false_negatives: 21.0000 - false_positives: 32.0000 - val_loss: 2.5440 - val_accuracy: 0.8000 - val_true_negatives: 30.0000 - val_true_positives: 34.0000 - val_false_negatives: 6.0000 - val_false_positives: 10.0000\n",
            "Epoch 79/100\n",
            "12/12 [==============================] - 10s 866ms/step - loss: 2.6886 - accuracy: 0.5583 - true_negatives: 29.0000 - true_positives: 38.0000 - false_negatives: 22.0000 - false_positives: 31.0000 - val_loss: 2.5558 - val_accuracy: 0.8000 - val_true_negatives: 30.0000 - val_true_positives: 34.0000 - val_false_negatives: 6.0000 - val_false_positives: 10.0000\n",
            "Epoch 80/100\n",
            "12/12 [==============================] - 11s 903ms/step - loss: 2.6505 - accuracy: 0.5500 - true_negatives: 26.0000 - true_positives: 40.0000 - false_negatives: 20.0000 - false_positives: 34.0000 - val_loss: 2.4996 - val_accuracy: 0.8125 - val_true_negatives: 25.0000 - val_true_positives: 40.0000 - val_false_negatives: 0.0000e+00 - val_false_positives: 15.0000\n",
            "Epoch 81/100\n",
            "12/12 [==============================] - 10s 878ms/step - loss: 2.6625 - accuracy: 0.5833 - true_negatives: 35.0000 - true_positives: 35.0000 - false_negatives: 25.0000 - false_positives: 25.0000 - val_loss: 2.5080 - val_accuracy: 0.8000 - val_true_negatives: 30.0000 - val_true_positives: 34.0000 - val_false_negatives: 6.0000 - val_false_positives: 10.0000\n",
            "Epoch 82/100\n",
            "12/12 [==============================] - 10s 854ms/step - loss: 2.6512 - accuracy: 0.6167 - true_negatives: 29.0000 - true_positives: 45.0000 - false_negatives: 15.0000 - false_positives: 31.0000 - val_loss: 2.4832 - val_accuracy: 0.8000 - val_true_negatives: 30.0000 - val_true_positives: 34.0000 - val_false_negatives: 6.0000 - val_false_positives: 10.0000\n",
            "Epoch 83/100\n",
            "12/12 [==============================] - 10s 862ms/step - loss: 2.6624 - accuracy: 0.5667 - true_negatives: 28.0000 - true_positives: 40.0000 - false_negatives: 20.0000 - false_positives: 32.0000 - val_loss: 2.5795 - val_accuracy: 0.7000 - val_true_negatives: 16.0000 - val_true_positives: 40.0000 - val_false_negatives: 0.0000e+00 - val_false_positives: 24.0000\n",
            "Epoch 84/100\n",
            "12/12 [==============================] - 10s 858ms/step - loss: 2.6860 - accuracy: 0.4750 - true_negatives: 25.0000 - true_positives: 32.0000 - false_negatives: 28.0000 - false_positives: 35.0000 - val_loss: 2.4593 - val_accuracy: 0.7750 - val_true_negatives: 27.0000 - val_true_positives: 35.0000 - val_false_negatives: 5.0000 - val_false_positives: 13.0000\n",
            "Epoch 85/100\n",
            "12/12 [==============================] - 11s 905ms/step - loss: 2.5862 - accuracy: 0.6333 - true_negatives: 35.0000 - true_positives: 41.0000 - false_negatives: 19.0000 - false_positives: 25.0000 - val_loss: 2.4433 - val_accuracy: 0.7875 - val_true_negatives: 25.0000 - val_true_positives: 38.0000 - val_false_negatives: 2.0000 - val_false_positives: 15.0000\n",
            "Epoch 86/100\n",
            "12/12 [==============================] - 11s 902ms/step - loss: 2.5902 - accuracy: 0.6000 - true_negatives: 34.0000 - true_positives: 38.0000 - false_negatives: 22.0000 - false_positives: 26.0000 - val_loss: 2.4560 - val_accuracy: 0.8000 - val_true_negatives: 30.0000 - val_true_positives: 34.0000 - val_false_negatives: 6.0000 - val_false_positives: 10.0000\n",
            "Epoch 87/100\n",
            "12/12 [==============================] - 10s 880ms/step - loss: 2.5662 - accuracy: 0.6583 - true_negatives: 33.0000 - true_positives: 46.0000 - false_negatives: 14.0000 - false_positives: 27.0000 - val_loss: 2.4349 - val_accuracy: 0.8000 - val_true_negatives: 30.0000 - val_true_positives: 34.0000 - val_false_negatives: 6.0000 - val_false_positives: 10.0000\n",
            "Epoch 88/100\n",
            "12/12 [==============================] - 10s 875ms/step - loss: 2.5543 - accuracy: 0.6250 - true_negatives: 33.0000 - true_positives: 42.0000 - false_negatives: 18.0000 - false_positives: 27.0000 - val_loss: 2.4214 - val_accuracy: 0.8000 - val_true_negatives: 30.0000 - val_true_positives: 34.0000 - val_false_negatives: 6.0000 - val_false_positives: 10.0000\n",
            "Epoch 89/100\n",
            "12/12 [==============================] - 11s 903ms/step - loss: 2.5502 - accuracy: 0.6333 - true_negatives: 34.0000 - true_positives: 42.0000 - false_negatives: 18.0000 - false_positives: 26.0000 - val_loss: 2.4047 - val_accuracy: 0.8000 - val_true_negatives: 29.0000 - val_true_positives: 35.0000 - val_false_negatives: 5.0000 - val_false_positives: 11.0000\n",
            "Epoch 90/100\n",
            "12/12 [==============================] - 11s 885ms/step - loss: 2.5714 - accuracy: 0.6583 - true_negatives: 31.0000 - true_positives: 48.0000 - false_negatives: 12.0000 - false_positives: 29.0000 - val_loss: 2.3737 - val_accuracy: 0.8125 - val_true_negatives: 30.0000 - val_true_positives: 35.0000 - val_false_negatives: 5.0000 - val_false_positives: 10.0000\n",
            "Epoch 91/100\n",
            "12/12 [==============================] - 11s 882ms/step - loss: 2.5418 - accuracy: 0.6083 - true_negatives: 34.0000 - true_positives: 39.0000 - false_negatives: 21.0000 - false_positives: 26.0000 - val_loss: 2.3762 - val_accuracy: 0.8125 - val_true_negatives: 30.0000 - val_true_positives: 35.0000 - val_false_negatives: 5.0000 - val_false_positives: 10.0000\n",
            "Epoch 92/100\n",
            "12/12 [==============================] - 11s 885ms/step - loss: 2.5426 - accuracy: 0.5833 - true_negatives: 32.0000 - true_positives: 38.0000 - false_negatives: 22.0000 - false_positives: 28.0000 - val_loss: 2.4098 - val_accuracy: 0.8125 - val_true_negatives: 31.0000 - val_true_positives: 34.0000 - val_false_negatives: 6.0000 - val_false_positives: 9.0000\n",
            "Epoch 93/100\n",
            "12/12 [==============================] - 10s 874ms/step - loss: 2.5193 - accuracy: 0.6083 - true_negatives: 25.0000 - true_positives: 48.0000 - false_negatives: 12.0000 - false_positives: 35.0000 - val_loss: 2.3576 - val_accuracy: 0.8125 - val_true_negatives: 30.0000 - val_true_positives: 35.0000 - val_false_negatives: 5.0000 - val_false_positives: 10.0000\n",
            "Epoch 94/100\n",
            "12/12 [==============================] - 11s 896ms/step - loss: 2.5469 - accuracy: 0.5833 - true_negatives: 28.0000 - true_positives: 42.0000 - false_negatives: 18.0000 - false_positives: 32.0000 - val_loss: 2.3563 - val_accuracy: 0.8125 - val_true_negatives: 31.0000 - val_true_positives: 34.0000 - val_false_negatives: 6.0000 - val_false_positives: 9.0000\n",
            "Epoch 95/100\n",
            "12/12 [==============================] - 11s 884ms/step - loss: 2.5184 - accuracy: 0.6333 - true_negatives: 35.0000 - true_positives: 41.0000 - false_negatives: 19.0000 - false_positives: 25.0000 - val_loss: 2.3412 - val_accuracy: 0.8000 - val_true_negatives: 29.0000 - val_true_positives: 35.0000 - val_false_negatives: 5.0000 - val_false_positives: 11.0000\n",
            "Epoch 96/100\n",
            "12/12 [==============================] - 10s 873ms/step - loss: 2.5035 - accuracy: 0.6250 - true_negatives: 26.0000 - true_positives: 49.0000 - false_negatives: 11.0000 - false_positives: 34.0000 - val_loss: 2.3440 - val_accuracy: 0.8000 - val_true_negatives: 30.0000 - val_true_positives: 34.0000 - val_false_negatives: 6.0000 - val_false_positives: 10.0000\n",
            "Epoch 97/100\n",
            "12/12 [==============================] - 11s 885ms/step - loss: 2.4927 - accuracy: 0.6000 - true_negatives: 28.0000 - true_positives: 44.0000 - false_negatives: 16.0000 - false_positives: 32.0000 - val_loss: 2.3278 - val_accuracy: 0.7875 - val_true_negatives: 25.0000 - val_true_positives: 38.0000 - val_false_negatives: 2.0000 - val_false_positives: 15.0000\n",
            "Epoch 98/100\n",
            "12/12 [==============================] - 10s 873ms/step - loss: 2.4638 - accuracy: 0.6333 - true_negatives: 30.0000 - true_positives: 46.0000 - false_negatives: 14.0000 - false_positives: 30.0000 - val_loss: 2.3073 - val_accuracy: 0.8125 - val_true_negatives: 30.0000 - val_true_positives: 35.0000 - val_false_negatives: 5.0000 - val_false_positives: 10.0000\n",
            "Epoch 99/100\n",
            "12/12 [==============================] - 11s 880ms/step - loss: 2.4361 - accuracy: 0.6167 - true_negatives: 25.0000 - true_positives: 49.0000 - false_negatives: 11.0000 - false_positives: 35.0000 - val_loss: 2.2896 - val_accuracy: 0.7875 - val_true_negatives: 28.0000 - val_true_positives: 35.0000 - val_false_negatives: 5.0000 - val_false_positives: 12.0000\n",
            "Epoch 100/100\n",
            "12/12 [==============================] - 11s 892ms/step - loss: 2.4569 - accuracy: 0.6583 - true_negatives: 32.0000 - true_positives: 47.0000 - false_negatives: 13.0000 - false_positives: 28.0000 - val_loss: 2.2814 - val_accuracy: 0.8000 - val_true_negatives: 30.0000 - val_true_positives: 34.0000 - val_false_negatives: 6.0000 - val_false_positives: 10.0000\n"
          ]
        },
        {
          "data": {
            "image/png": "[encoded data removed]",
            "text/plain": [
              "<Figure size 432x288 with 1 Axes>"
            ]
          },
          "metadata": {
            "needs_background": "light"
          },
          "output_type": "display_data"
        },
        {
          "data": {
            "image/png": "[encoded data removed]",
            "text/plain": [
              "<Figure size 432x288 with 1 Axes>"
            ]
          },
          "metadata": {
            "needs_background": "light"
          },
          "output_type": "display_data"
        }
      ],
      "source": [
        "# fitiing\n",
        "history=model.fit(train_generator,epochs=100,validation_data=val_generator,shuffle=True,\n",
        "                            callbacks=[callbacks.EarlyStopping(monitor='val_loss', patience=5,restore_best_weights=True)])\n",
        "# using early stopping method to train the model to achieve maximum accuracy\n",
        "plt.plot(history.history['loss'])\n",
        "plt.plot(history.history['val_loss'])\n",
        "plt.title('loss')\n",
        "plt.ylabel('loss')\n",
        "plt.xlabel('epoch')\n",
        "plt.legend(['train', 'val'], loc='upper left')\n",
        "plt.show()\n",
        "plt.plot(history.history['loss'])\n",
        "plt.plot(history.history['val_loss'])\n",
        "plt.title('loss')\n",
        "plt.ylabel('loss')\n",
        "plt.xlabel('epoch')\n",
        "plt.legend(['train', 'val'], loc='upper left')\n",
        "plt.show()"
      ]
    },
    {
      "cell_type": "code",
      "execution_count": 6,
      "metadata": {
        "colab": {},
        "colab_type": "code",
        "id": "lTU-qpGgLUqf"
      },
      "outputs": [
        {
          "name": "stdout",
          "output_type": "stream",
          "text": [
            "3/3 [==============================] - 1s 322ms/step - loss: 2.2814 - accuracy: 0.8000 - true_negatives: 30.0000 - true_positives: 34.0000 - false_negatives: 6.0000 - false_positives: 10.0000\n",
            "0.800000011920929\n",
            "34.0 10.0\n",
            "6.0 34.0\n"
          ]
        }
      ],
      "source": [
        "#testing \n",
        "loss,accuracy,tn,tp,fn,fp=model.evaluate(val_generator)\n",
        "print(accuracy)\n",
        "print(tp,fp,)\n",
        "print(fn,tp)"
      ]
    },
    {
      "cell_type": "code",
      "execution_count": 7,
      "metadata": {},
      "outputs": [
        {
          "name": "stdout",
          "output_type": "stream",
          "text": [
            "12/12 [==============================] - 2s 167ms/step - loss: 2.4139 - accuracy: 0.6583 - true_negatives: 31.0000 - true_positives: 48.0000 - false_negatives: 12.0000 - false_positives: 29.0000\n",
            "0.6583333611488342\n",
            "48.0 29.0\n",
            "12.0 48.0\n"
          ]
        }
      ],
      "source": [
        "loss,accuracy,tn,tp,fn,fp = model.evaluate(train_generator)\n",
        "print(accuracy)\n",
        "print(tp,fp,)\n",
        "print(fn,tp)"
      ]
    },
    {
      "cell_type": "code",
      "execution_count": 8,
      "metadata": {},
      "outputs": [],
      "source": [
        "tf.keras.models.save_model(model,'../models/cnn_svm.h5')"
      ]
    },
    {
      "cell_type": "code",
      "execution_count": null,
      "metadata": {},
      "outputs": [],
      "source": []
    }
  ],
  "metadata": {
    "colab": {
      "name": "Untitled15.ipynb",
      "provenance": []
    },
    "interpreter": {
      "hash": "4155c6aabd79feaddd2a107c3328b8e7f59a22d3e4f07c5dafc6e15105329367"
    },
    "kernelspec": {
      "display_name": "Python 3.8.13 ('tf')",
      "language": "python",
      "name": "python3"
    },
    "language_info": {
      "codemirror_mode": {
        "name": "ipython",
        "version": 3
      },
      "file_extension": ".py",
      "mimetype": "text/x-python",
      "name": "python",
      "nbconvert_exporter": "python",
      "pygments_lexer": "ipython3",
      "version": "3.8.13"
    }
  },
  "nbformat": 4,
  "nbformat_minor": 0
}
