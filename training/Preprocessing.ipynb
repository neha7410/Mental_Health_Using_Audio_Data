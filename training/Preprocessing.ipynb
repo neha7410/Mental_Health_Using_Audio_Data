{
  "nbformat": 4,
  "nbformat_minor": 0,
  "metadata": {
    "colab": {
      "name": "Untitled15.ipynb",
      "provenance": []
    },
    "kernelspec": {
      "name": "python3",
      "display_name": "Python 3"
    }
  },
  "cells": [
    {
      "cell_type": "code",
      "metadata": {
        "id": "MXeZapQJvJU1",
        "colab_type": "code",
        "colab": {}
      },
      "source": [
        "from pyAudioAnalysis import audioBasicIO as aIO\n",
        "from pyAudioAnalysis import audioSegmentation as aS\n",
        "import os\n",
        "import scipy.io.wavfile as wavfile\n",
        "# speaker diarization\n",
        "# all audio sessions are taken in 'audio_data' folder.\n",
        "dia={}\n",
        "for i in os.listdir('audio_data'):\n",
        "  dia[i[:3]]=aS.speaker_diarization('audio_data/'+i,-10) #changed aS.speakerDiarization \n",
        "  # speaker diarization outputs speaker number for every .5 sec time frame\n",
        "  c=0\n",
        "  dic={}\n",
        "  for j in dia[i[:3]]:\n",
        "    dic[c]=j\n",
        "    c+=1\n",
        "  del(dia[i[:3]])\n",
        "  dia[i[:3]]=dic #dictionary of audio session number : speaker number list"
      ],
      "execution_count": 0,
      "outputs": []
    },
    {
      "cell_type": "code",
      "metadata": {
        "id": "LrPlSf6L3OEI",
        "colab_type": "code",
        "colab": {}
      },
      "source": [
        "#silence removal, splitting based on speaker\n",
        "import os\n",
        "\n",
        "for i in os.listdir('audio_data'):\n",
        "  [Fs, x] = aIO.read_audioFile('audio_data/'+i) #changed aIO.readAudioFile \n",
        "  segments = aS.silence_removal(x, Fs, 0.020, 0.020,\n",
        "                                   smooth_window=1.0,\n",
        "                                   weight=0.3,\n",
        "                                   plot=False) #changed aS.silenceRemoval and smoothWindow \n",
        "  for s in segments:\n",
        "    seg_name = \"{:s}_{:.2f}-{:}.wav\".format(i[:3], s[0],\n",
        "                                            str(int((dia[i[:3]][int((Fs*s[0])/3200)]+dia[i[:3]][int((Fs*s[1])/3200)])/2)))\n",
        "    #splitting each audio sessions on silences\n",
        "    try:\n",
        "      wavfile.write('dat_file/'+str(int((dia[i[:3]][int((Fs*s[0])/3200)]+dia[i[:3]][int((Fs*s[1])/3200)])/2))+'/'+seg_name,\n",
        "                    Fs, x[int(Fs * s[0]):int(Fs * s[1])])\n",
        "    except:\n",
        "      wavfile.write('dat_file/others/'+seg_name, Fs, x[int(Fs * s[0]):int(Fs * s[1])])\n",
        "    "
      ],
      "execution_count": 0,
      "outputs": []
    },
    {
      "cell_type": "code",
      "metadata": {
        "id": "qgkjbMoEJMQF",
        "colab_type": "code",
        "colab": {}
      },
      "source": [
        "#audio to spectrogram\n",
        "import spectrust\n",
        "import re\n",
        "\n",
        "spect = spectrust.Spectrogram(width=512, height=512)\n",
        "#spectrograms of size 512X512, RGB\n",
        "for i in os.listdir(\"dat_file/others/\"):\n",
        "  spect.generate('dat_file/others/'+i,\n",
        "                 'raw_data_img/'+str(label_data[int(i[:3])])+'/'+re.sub('.wav','',i)+'.jpg')\n",
        "  #the labels are taken as a dict - label_data={session_name:Class}\n"
      ],
      "execution_count": 0,
      "outputs": []
    },
    {
      "cell_type": "code",
      "metadata": {
        "id": "v52ZVH9qyHIB",
        "colab_type": "code",
        "colab": {}
      },
      "source": [
        "#random sampling 3000 images of each class\n",
        "import numpy as np\n",
        "import cv2\n",
        "\n",
        "for i in os.listdir('raw_data_img'):\n",
        "  for c in range(3000):\n",
        "    files = os.listdir('raw_data_img/'+i)\n",
        "    random_files = np.random.choice(files, 3000)\n",
        "  nm=0\n",
        "  for j in random_files:\n",
        "    im=cv2.imread('raw_data_img/'+i+'/'+j)\n",
        "    cv2.imwrite('data_img/'+i+'/'+str(nm)+'.jpg',im)\n",
        "    nm+=1"
      ],
      "execution_count": 0,
      "outputs": []
    },
    {
      "cell_type": "code",
      "metadata": {
        "id": "UOK1hMT_Av9K",
        "colab_type": "code",
        "colab": {}
      },
      "source": [
        "#split folders into test-val\n",
        "import split_folders\n",
        "\n",
        "split_folders.ratio('data_img', output='final_image_data', seed=1337, ratio=(.8,.20))\n"
      ],
      "execution_count": 0,
      "outputs": []
    }
  ]
}
